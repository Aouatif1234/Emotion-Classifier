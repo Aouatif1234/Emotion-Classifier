{
  "nbformat": 4,
  "nbformat_minor": 0,
  "metadata": {
    "colab": {
      "provenance": []
    },
    "kernelspec": {
      "name": "python3",
      "display_name": "Python 3"
    },
    "language_info": {
      "name": "python"
    }
  },
  "cells": [
    {
      "cell_type": "markdown",
      "source": [
        "Importing Libraries\n"
      ],
      "metadata": {
        "id": "UP7ET-JV-2uJ"
      }
    },
    {
      "cell_type": "code",
      "source": [
        "# Importing necessary libraries\n",
        "from os import listdir\n",
        "from matplotlib import image\n",
        "import os\n",
        "import numpy as np\n",
        "from matplotlib import image\n",
        "import cv2 as cv\n",
        "from skimage.feature import greycomatrix, greycoprops\n",
        "import matplotlib.pyplot as plt\n",
        "import itertools\n",
        "import scipy.spatial.distance as dist\n",
        "from sklearn.model_selection import train_test_split\n",
        "from sklearn.metrics import confusion_matrix\n",
        "from sklearn import svm\n",
        "from sklearn import metrics\n"
      ],
      "metadata": {
        "id": "WMM6Q5xe-5_j"
      },
      "execution_count": 1,
      "outputs": []
    },
    {
      "cell_type": "markdown",
      "source": [
        "Loading Images"
      ],
      "metadata": {
        "id": "fYh-slGo_K5B"
      }
    },
    {
      "cell_type": "code",
      "source": [
        "# Load all images in a directory\n",
        "loaded_images = list()\n",
        "loaded_images2 = list()\n",
        "\n",
        "path = './angry'\n",
        "path1 = './disgusted'\n",
        "\n",
        "# Load images for 'angry' class\n",
        "for filename in listdir(path):\n",
        "    img_data = image.imread(path + '/' + filename)\n",
        "    loaded_images.append(img_data)\n",
        "\n",
        "# Load images for 'disgusted' class\n",
        "for filename in listdir(path1):\n",
        "    img_data = image.imread(path1 + '/' + filename)\n",
        "    loaded_images2.append(img_data)\n"
      ],
      "metadata": {
        "id": "O7tFSqOE-8Xl"
      },
      "execution_count": null,
      "outputs": []
    },
    {
      "cell_type": "markdown",
      "source": [
        "Defining Texture Features Function"
      ],
      "metadata": {
        "id": "xU7yeVQD_aiS"
      }
    },
    {
      "cell_type": "code",
      "source": [
        "def textureFeatures(img):\n",
        "    \"\"\"Based on texture analysis using GLCM (Gray-Level Co-Occurrence Matrix).\n",
        "    The feature vector of size 1x4 will contain [Contrast, Correlation, Energy, Homogeneity]\n",
        "    \"\"\"\n",
        "    features_texture = []\n",
        "    im = cv.cvtColor(img, cv.COLOR_RGB2GRAY)\n",
        "\n",
        "    # Normalize before returning the descriptor vector\n",
        "    glcm = greycomatrix(im, distances=[5], angles=[0], symmetric=True, normed=True)\n",
        "    contrast = greycoprops(glcm, 'contrast')\n",
        "    corr = greycoprops(glcm, 'correlation')\n",
        "    ener = greycoprops(glcm, 'energy')\n",
        "    homog = greycoprops(glcm, 'homogeneity')\n",
        "\n",
        "    features1 = np.append(contrast, corr)\n",
        "    features2 = np.append(ener, homog)\n",
        "    features_texture = np.append(features1, features2)\n",
        "    features_texture = features_texture / np.mean(features_texture)\n",
        "\n",
        "    return features_texture\n"
      ],
      "metadata": {
        "id": "2VvwPvCX--Mv"
      },
      "execution_count": null,
      "outputs": []
    },
    {
      "cell_type": "markdown",
      "source": [
        "Defining Feature Extraction Function"
      ],
      "metadata": {
        "id": "Ho7yNxUD_h_l"
      }
    },
    {
      "cell_type": "code",
      "source": [
        "def getFeatures(img, fsize):\n",
        "    \"\"\"Function to create a descriptor vector.\n",
        "    \"\"\"\n",
        "    features = []\n",
        "    if fsize >= 43:\n",
        "        # Using texture features\n",
        "        features = np.append(textureFeatures(img))\n",
        "    return features\n"
      ],
      "metadata": {
        "id": "_LQTnk_9--W2"
      },
      "execution_count": null,
      "outputs": []
    },
    {
      "cell_type": "markdown",
      "source": [
        "Defining CBIR Indexation Function"
      ],
      "metadata": {
        "id": "4X00o2Nb_r3a"
      }
    },
    {
      "cell_type": "code",
      "source": [
        "def CBIR_Indexation(fsize):\n",
        "    \"\"\"Content-Based Image Retrieval (CBIR) Indexation.\"\"\"\n",
        "    n = len(loaded_images)\n",
        "    m = len(loaded_images2)\n",
        "    features = []\n",
        "    data = np.arange(n + m)\n",
        "    y = []\n",
        "    print(\"Debut d'Indexation\")\n",
        "\n",
        "    for i in range(n):\n",
        "        features.append(getFeatures(loaded_images[i], fsize))\n",
        "        y.append('angry')\n",
        "\n",
        "    for j in range(m):\n",
        "        features.append(getFeatures(loaded_images2[j], fsize))\n",
        "        y.append('disgusted')\n",
        "\n",
        "    print(\"Fin d'Indexation\")\n",
        "    return features, y\n"
      ],
      "metadata": {
        "id": "t7W1mMGY_sSo"
      },
      "execution_count": null,
      "outputs": []
    },
    {
      "cell_type": "markdown",
      "source": [
        " Train-Test Split and SVM Classification"
      ],
      "metadata": {
        "id": "_QiS9-sP_zoQ"
      }
    },
    {
      "cell_type": "code",
      "source": [
        "# Indexing and creating feature and label matrices\n",
        "index_Matrix = CBIR_Indexation(43)\n",
        "X = index_Matrix[0]\n",
        "Y = index_Matrix[1]\n",
        "\n",
        "# Splitting the data into training and testing sets\n",
        "X_train, X_test, y_train, y_test = train_test_split(X, Y, test_size=0.2, random_state=35)\n",
        "\n",
        "# Initializing and training the SVM classifier\n",
        "clf = svm.SVC(C=9, kernel='linear')\n",
        "clf.fit(X_train, y_train)\n",
        "\n",
        "# Predictions and accuracy\n",
        "print('prediction :', clf.predict(X_test))\n",
        "print(\"Accuracy  SVM: %s\" % clf.score(X_test, y_test))\n",
        "\n",
        "# Confusion matrix\n",
        "results = confusion_matrix(y_test, clf.predict(X_test))\n",
        "print('Matrix confusion \\n', results)\n"
      ],
      "metadata": {
        "id": "zdfDILbH_z_b"
      },
      "execution_count": null,
      "outputs": []
    }
  ]
}